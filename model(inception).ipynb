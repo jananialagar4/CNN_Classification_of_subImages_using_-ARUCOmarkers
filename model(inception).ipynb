{
  "nbformat": 4,
  "nbformat_minor": 0,
  "metadata": {
    "colab": {
      "provenance": [],
      "gpuType": "T4",
      "include_colab_link": true
    },
    "kernelspec": {
      "name": "python3",
      "display_name": "Python 3"
    },
    "language_info": {
      "name": "python"
    },
    "accelerator": "GPU"
  },
  "cells": [
    {
      "cell_type": "markdown",
      "metadata": {
        "id": "view-in-github",
        "colab_type": "text"
      },
      "source": [
        "<a href=\"https://colab.research.google.com/github/jananialagar4/CNN_Classification_of_subImages_using_-ARUCOmarkers/blob/main/model(inception).ipynb\" target=\"_parent\"><img src=\"https://colab.research.google.com/assets/colab-badge.svg\" alt=\"Open In Colab\"/></a>"
      ]
    },
    {
      "cell_type": "code",
      "execution_count": null,
      "metadata": {
        "colab": {
          "base_uri": "https://localhost:8080/"
        },
        "id": "zu35g87VD8bh",
        "outputId": "f7b03445-f743-4a52-faa1-120b66caa4c1"
      },
      "outputs": [
        {
          "output_type": "stream",
          "name": "stdout",
          "text": [
            "Drive already mounted at /content/drive; to attempt to forcibly remount, call drive.mount(\"/content/drive\", force_remount=True).\n"
          ]
        }
      ],
      "source": [
        "from google.colab import drive\n",
        "drive.mount('/content/drive')"
      ]
    },
    {
      "cell_type": "code",
      "source": [
        "#module_url = \"https://tfhub.dev/google/imagenet/efficientnet_v2_imagenet1k_s/classification/2\""
      ],
      "metadata": {
        "id": "Qb_LuKSVFvvC"
      },
      "execution_count": null,
      "outputs": []
    },
    {
      "cell_type": "code",
      "source": [
        "import tensorflow as tf\n",
        "import tensorflow_datasets as tfds"
      ],
      "metadata": {
        "id": "8_dcjJMnGTK_"
      },
      "execution_count": null,
      "outputs": []
    },
    {
      "cell_type": "code",
      "source": [
        "base_dir = \"/content/drive/MyDrive/training\""
      ],
      "metadata": {
        "id": "EsjYgyfJGVYf"
      },
      "execution_count": null,
      "outputs": []
    },
    {
      "cell_type": "code",
      "source": [],
      "metadata": {
        "id": "xF7Sxk0pF_nY"
      },
      "execution_count": null,
      "outputs": []
    },
    {
      "cell_type": "code",
      "source": [
        "from tensorflow.keras.applications.inception_v3 import InceptionV3\n",
        "pretrained_model = InceptionV3(input_shape=(224,224,3),\n",
        "                               weights='imagenet',\n",
        "                               include_top=False)"
      ],
      "metadata": {
        "id": "cbE6_LN0EKHB"
      },
      "execution_count": null,
      "outputs": []
    },
    {
      "cell_type": "code",
      "source": [
        "\"\"\"train_ds = tf.keras.utils.image_dataset_from_directory(\n",
        "  data_dir,\n",
        "  validation_split=0.2,\n",
        "  subset=\"training\",\n",
        "  seed=123,\n",
        "  image_size=(img_height, img_width),\n",
        "  batch_size=batch_size)\"\"\""
      ],
      "metadata": {
        "colab": {
          "base_uri": "https://localhost:8080/",
          "height": 53
        },
        "id": "6GzkC6VlOOsm",
        "outputId": "d0f8e9e2-9bb7-40d0-bdb4-f1426ba6b7f5"
      },
      "execution_count": null,
      "outputs": [
        {
          "output_type": "execute_result",
          "data": {
            "text/plain": [
              "'train_ds = tf.keras.utils.image_dataset_from_directory(\\n  data_dir,\\n  validation_split=0.2,\\n  subset=\"training\",\\n  seed=123,\\n  image_size=(img_height, img_width),\\n  batch_size=batch_size)'"
            ],
            "application/vnd.google.colaboratory.intrinsic+json": {
              "type": "string"
            }
          },
          "metadata": {},
          "execution_count": 33
        }
      ]
    },
    {
      "cell_type": "code",
      "source": [
        "IMAGE_SIZE=224\n",
        "BATCH_SIZE=64\n",
        "\n",
        "train_datagen=tf.keras.preprocessing.image.ImageDataGenerator(\n",
        "    rescale=1./255,\n",
        "    shear_range=0.2,\n",
        "    zoom_range=0.2,\n",
        "    horizontal_flip=True,\n",
        "    validation_split=0.1\n",
        "    )\n",
        "\n",
        "test_datagen=tf.keras.preprocessing.image.ImageDataGenerator(\n",
        "     rescale=1./255,\n",
        "     validation_split=0.1\n",
        ")\n",
        "\n",
        "train_gen=train_datagen.flow_from_directory(\n",
        "    base_dir,\n",
        "    target_size=(IMAGE_SIZE,IMAGE_SIZE),\n",
        "    batch_size=BATCH_SIZE,\n",
        "    subset='training',\n",
        "    class_mode='categorical'\n",
        ")\n",
        "\n",
        "test_gen=test_datagen.flow_from_directory(\n",
        "    base_dir,\n",
        "    target_size=(IMAGE_SIZE,IMAGE_SIZE),\n",
        "    batch_size=BATCH_SIZE,\n",
        "    subset='validation',\n",
        "    class_mode='categorical'\n",
        ")"
      ],
      "metadata": {
        "colab": {
          "base_uri": "https://localhost:8080/"
        },
        "id": "J2zEDsORGYSH",
        "outputId": "4fd31aaa-6c3c-44fb-a19f-c506ff297ef6"
      },
      "execution_count": null,
      "outputs": [
        {
          "output_type": "stream",
          "name": "stdout",
          "text": [
            "Found 349 images belonging to 5 classes.\n",
            "Found 37 images belonging to 5 classes.\n"
          ]
        }
      ]
    },
    {
      "cell_type": "code",
      "source": [
        "type(train_datagen)"
      ],
      "metadata": {
        "colab": {
          "base_uri": "https://localhost:8080/"
        },
        "id": "j0hWsjYkSY1r",
        "outputId": "11fa3d05-605f-4001-d0a3-88c904d7b5a2"
      },
      "execution_count": null,
      "outputs": [
        {
          "output_type": "execute_result",
          "data": {
            "text/plain": [
              "keras.src.preprocessing.image.ImageDataGenerator"
            ]
          },
          "metadata": {},
          "execution_count": 35
        }
      ]
    },
    {
      "cell_type": "code",
      "source": [
        "print(train_gen)"
      ],
      "metadata": {
        "colab": {
          "base_uri": "https://localhost:8080/"
        },
        "id": "HB9iKFooSbvi",
        "outputId": "b2dd5c86-8f40-48d2-9c71-031cd202c764"
      },
      "execution_count": null,
      "outputs": [
        {
          "output_type": "stream",
          "name": "stdout",
          "text": [
            "<keras.src.preprocessing.image.DirectoryIterator object at 0x78483d496c20>\n"
          ]
        }
      ]
    },
    {
      "cell_type": "code",
      "source": [
        "from tensorflow.keras import layers\n",
        "from tensorflow.keras import Model\n",
        "# Freezing layers in convolutional base\n",
        "pretrained_model.trainable = False\n",
        "# Custom classification block (see note 9, below)\n",
        "x = layers.GlobalAveragePooling2D()(pretrained_model.output)\n",
        "x = layers.Dense(5, activation='softmax')(x)\n",
        "# Compiling the model\n",
        "model = Model(pretrained_model.input, x)\n",
        "model.compile(loss='categorical_crossentropy',\n",
        "              optimizer = 'adam',\n",
        "              metrics = ['acc'])"
      ],
      "metadata": {
        "id": "E--UWHHQFw6Y"
      },
      "execution_count": null,
      "outputs": []
    },
    {
      "cell_type": "markdown",
      "source": [],
      "metadata": {
        "id": "UA3Ow_i3rtrd"
      }
    },
    {
      "cell_type": "code",
      "source": [
        "from tensorflow.keras.callbacks import Callback\n",
        "# Callback class for early stopping\n",
        "class mycallback(Callback):\n",
        "    def on_epoch_end(self, epoch, logs={}):\n",
        "        if logs.get('loss') <= 0.09:\n",
        "            self.model.stop_training = True\n",
        "        if logs.get('acc') == 1.00:\n",
        "            self.model.stop_training = True"
      ],
      "metadata": {
        "id": "dLzOzVgMHV3W"
      },
      "execution_count": null,
      "outputs": []
    },
    {
      "cell_type": "code",
      "source": [
        "EPOCHS = 10\n",
        "# Creating variable to be passed as argument when fitting\n",
        "callbacks = [mycallback()]\n",
        "# Fitting model for our custom task\n",
        "history = model.fit(train_gen,\n",
        "                              validation_data=test_gen,\n",
        "                              callbacks=callbacks,\n",
        "                              epochs = EPOCHS,\n",
        "                              verbose = 2)"
      ],
      "metadata": {
        "colab": {
          "base_uri": "https://localhost:8080/"
        },
        "id": "7-Yvo_RQHk2V",
        "outputId": "2bf93c4a-bf6d-4657-aa67-981f086032ad"
      },
      "execution_count": null,
      "outputs": [
        {
          "output_type": "stream",
          "name": "stdout",
          "text": [
            "Epoch 1/10\n",
            "6/6 - 15s - loss: 1.5741 - acc: 0.3381 - val_loss: 0.9297 - val_acc: 0.6216 - 15s/epoch - 2s/step\n",
            "Epoch 2/10\n",
            "6/6 - 9s - loss: 0.8039 - acc: 0.7507 - val_loss: 0.4021 - val_acc: 0.9459 - 9s/epoch - 1s/step\n",
            "Epoch 3/10\n",
            "6/6 - 9s - loss: 0.4704 - acc: 0.8739 - val_loss: 0.2104 - val_acc: 1.0000 - 9s/epoch - 2s/step\n",
            "Epoch 4/10\n",
            "6/6 - 7s - loss: 0.3136 - acc: 0.9198 - val_loss: 0.1399 - val_acc: 1.0000 - 7s/epoch - 1s/step\n",
            "Epoch 5/10\n",
            "6/6 - 9s - loss: 0.2647 - acc: 0.9284 - val_loss: 0.1173 - val_acc: 1.0000 - 9s/epoch - 1s/step\n",
            "Epoch 6/10\n",
            "6/6 - 7s - loss: 0.2183 - acc: 0.9484 - val_loss: 0.0864 - val_acc: 1.0000 - 7s/epoch - 1s/step\n",
            "Epoch 7/10\n",
            "6/6 - 7s - loss: 0.1699 - acc: 0.9685 - val_loss: 0.0754 - val_acc: 1.0000 - 7s/epoch - 1s/step\n",
            "Epoch 8/10\n",
            "6/6 - 8s - loss: 0.1459 - acc: 0.9685 - val_loss: 0.0675 - val_acc: 1.0000 - 8s/epoch - 1s/step\n",
            "Epoch 9/10\n",
            "6/6 - 9s - loss: 0.1344 - acc: 0.9742 - val_loss: 0.0651 - val_acc: 1.0000 - 9s/epoch - 1s/step\n",
            "Epoch 10/10\n",
            "6/6 - 7s - loss: 0.1281 - acc: 0.9685 - val_loss: 0.0574 - val_acc: 1.0000 - 7s/epoch - 1s/step\n"
          ]
        }
      ]
    },
    {
      "cell_type": "code",
      "source": [
        "import matplotlib.pyplot as plt\n",
        "import seaborn as sns\n",
        "# Defining dependent variables for plotting\n",
        "acc = history.history['acc']\n",
        "val_acc = history.history['val_acc']\n",
        "loss = history.history['loss']\n",
        "val_loss = history.history['val_loss']\n",
        "# Defining independent variable for plotting\n",
        "epochs = range(len(acc))\n",
        "# Creating grid of subplots\n",
        "fit, axes = plt.subplots(1, 2, figsize=(12, 5))\n",
        "sns.axes_style('whitegrid')\n",
        "# Plotting accuracy\n",
        "sns.lineplot(x=epochs,\n",
        "             y=acc,\n",
        "             color='r',\n",
        "             label='Training accuracy',\n",
        "             ax=axes[0])\n",
        "sns.lineplot(x=epochs,\n",
        "             y=val_acc,\n",
        "             color = 'b',\n",
        "             label='Validation accuracy',\n",
        "             ax=axes[0])\n",
        "# Plotting loss\n",
        "sns.lineplot(x=epochs,\n",
        "             y=loss,\n",
        "             color='r',\n",
        "             label='Training loss',\n",
        "             ax=axes[1])\n",
        "sns.lineplot(x=epochs,\n",
        "             y=val_loss,\n",
        "             color = 'b',\n",
        "             label='Validation loss',\n",
        "             ax=axes[1])\n",
        "plt.tight_layout()\n",
        "plt.show();"
      ],
      "metadata": {
        "colab": {
          "base_uri": "https://localhost:8080/",
          "height": 507
        },
        "id": "sCZVqkNALcrJ",
        "outputId": "2ec10c06-3964-4276-e124-a36cba5526e5"
      },
      "execution_count": null,
      "outputs": [
        {
          "output_type": "display_data",
          "data": {
            "text/plain": [
              "<Figure size 1200x500 with 2 Axes>"
            ],
            "image/png": "[encoded data removed]"
          },
          "metadata": {}
        }
      ]
    },
    {
      "cell_type": "code",
      "source": [
        "model.save('/content/drive/MyDrive/modelcnn/yourmodel.h5')"
      ],
      "metadata": {
        "id": "Kr1EUyxoIFlM",
        "colab": {
          "base_uri": "https://localhost:8080/"
        },
        "outputId": "6b5d66ff-0c37-4371-fd7f-528478aba2dc"
      },
      "execution_count": null,
      "outputs": [
        {
          "output_type": "stream",
          "name": "stderr",
          "text": [
            "/usr/local/lib/python3.10/dist-packages/keras/src/engine/training.py:3079: UserWarning: You are saving your model as an HDF5 file via `model.save()`. This file format is considered legacy. We recommend using instead the native Keras format, e.g. `model.save('my_model.keras')`.\n",
            "  saving_api.save_model(\n"
          ]
        }
      ]
    },
    {
      "cell_type": "code",
      "source": [
        "model.evaluate(test_gen)"
      ],
      "metadata": {
        "colab": {
          "base_uri": "https://localhost:8080/"
        },
        "id": "lokDjvPogMPj",
        "outputId": "e077afb6-bfb3-4495-eca3-c5d9b1033ea9"
      },
      "execution_count": null,
      "outputs": [
        {
          "output_type": "stream",
          "name": "stdout",
          "text": [
            "1/1 [==============================] - 1s 630ms/step - loss: 0.0574 - acc: 1.0000\n"
          ]
        },
        {
          "output_type": "execute_result",
          "data": {
            "text/plain": [
              "[0.05739537999033928, 1.0]"
            ]
          },
          "metadata": {},
          "execution_count": 42
        }
      ]
    },
    {
      "cell_type": "code",
      "source": [],
      "metadata": {
        "id": "Ee7MW1UnkSxb"
      },
      "execution_count": null,
      "outputs": []
    }
  ]
}